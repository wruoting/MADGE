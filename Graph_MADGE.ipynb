{
 "cells": [
  {
   "cell_type": "code",
   "execution_count": 10,
   "metadata": {},
   "outputs": [],
   "source": [
    "from graph import *"
   ]
  },
  {
   "cell_type": "code",
   "execution_count": 12,
   "metadata": {},
   "outputs": [
    {
     "name": "stderr",
     "output_type": "stream",
     "text": [
      "e:\\program files\\python36\\lib\\site-packages\\plotly\\offline\\offline.py:562: UserWarning:\n",
      "\n",
      "Your filename `09-09-2019-TestDataSet-MADGE-Circle-Classification` didn't end with .html. Adding .html to the end of your file.\n",
      "\n"
     ]
    }
   ],
   "source": [
    "linspace = (-6, 6, 30)\n",
    "path = \"./SampleData/ClassifyCircleData.txt\"\n",
    "training_data_set = convert_array_to_array_of_tuples(read_data_from_file(path))\n",
    "training_data_set_filename = '09-09-2019-TestDataSet-2D-Circle-Classification'\n",
    "filename = '09-09-2019-TestDataSet-MADGE-Circle-Classification'\n",
    "data = create_data_graphs_and_classifiers(training_data_set, linspace, (1, -1))\n",
    "title = 'Circle Classification'\n",
    "create_and_plot_points_in_data_set(training_data_set, (1, -1))\n",
    "plot_madge_data(data, filename, title)"
   ]
  },
  {
   "cell_type": "code",
   "execution_count": 13,
   "metadata": {},
   "outputs": [
    {
     "name": "stderr",
     "output_type": "stream",
     "text": [
      "e:\\program files\\python36\\lib\\site-packages\\plotly\\offline\\offline.py:562: UserWarning:\n",
      "\n",
      "Your filename `09-09-2019-TestDataSet-MADGE-ClassifyXORData` didn't end with .html. Adding .html to the end of your file.\n",
      "\n"
     ]
    }
   ],
   "source": [
    "linspace = (-6, 6, 30)\n",
    "path = \"./SampleData/ClassifyXORData.txt\"\n",
    "training_data_set = convert_array_to_array_of_tuples(read_data_from_file(path))\n",
    "training_data_set_filename = '09-09-2019-TestDataSet-2D-ClassifyXORData'\n",
    "filename = '09-09-2019-TestDataSet-MADGE-ClassifyXORData'\n",
    "data = create_data_graphs_and_classifiers(training_data_set, linspace, (1, -1))\n",
    "title = 'Classify XOR Data'\n",
    "create_and_plot_points_in_data_set(training_data_set, (1, -1))\n",
    "plot_madge_data(data, filename, title)"
   ]
  },
  {
   "cell_type": "code",
   "execution_count": 14,
   "metadata": {},
   "outputs": [
    {
     "name": "stderr",
     "output_type": "stream",
     "text": [
      "e:\\program files\\python36\\lib\\site-packages\\plotly\\offline\\offline.py:562: UserWarning:\n",
      "\n",
      "Your filename `09-09-2019-TestDataSet-MADGE-ClassifyTwoGaussData` didn't end with .html. Adding .html to the end of your file.\n",
      "\n"
     ]
    }
   ],
   "source": [
    "linspace = (-6, 6, 30)\n",
    "path = \"./SampleData/ClassifyTwoGaussData.txt\"\n",
    "training_data_set = convert_array_to_array_of_tuples(read_data_from_file(path))\n",
    "training_data_set_filename = '09-09-2019-TestDataSet-2D-ClassifyTwoGaussData'\n",
    "filename = '09-09-2019-TestDataSet-MADGE-ClassifyTwoGaussData'\n",
    "data = create_data_graphs_and_classifiers(training_data_set, linspace, (1, -1))\n",
    "title = 'Classify Two Gauss Data'\n",
    "create_and_plot_points_in_data_set(training_data_set, (1, -1))\n",
    "plot_madge_data(data, filename, title)"
   ]
  },
  {
   "cell_type": "code",
   "execution_count": 15,
   "metadata": {},
   "outputs": [
    {
     "name": "stderr",
     "output_type": "stream",
     "text": [
      "e:\\program files\\python36\\lib\\site-packages\\plotly\\offline\\offline.py:562: UserWarning:\n",
      "\n",
      "Your filename `09-09-2019-TestDataSet-MADGE-ClassifySpiralData` didn't end with .html. Adding .html to the end of your file.\n",
      "\n"
     ]
    }
   ],
   "source": [
    "linspace = (-6, 6, 30)\n",
    "path = \"./SampleData/ClassifySpiralData.txt\"\n",
    "training_data_set = convert_array_to_array_of_tuples(read_data_from_file(path))\n",
    "training_data_set_filename = '09-09-2019-TestDataSet-2D-ClassifySpiralData'\n",
    "filename = '09-09-2019-TestDataSet-MADGE-ClassifySpiralData'\n",
    "data = create_data_graphs_and_classifiers(training_data_set, linspace, (1, -1))\n",
    "title = 'Classify Spiral Data'\n",
    "create_and_plot_points_in_data_set(training_data_set, (1, -1))\n",
    "plot_madge_data(data, filename, title)"
   ]
  },
  {
   "cell_type": "code",
   "execution_count": null,
   "metadata": {},
   "outputs": [],
   "source": []
  }
 ],
 "metadata": {
  "kernelspec": {
   "display_name": "Python 3",
   "language": "python",
   "name": "python3"
  },
  "language_info": {
   "codemirror_mode": {
    "name": "ipython",
    "version": 3
   },
   "file_extension": ".py",
   "mimetype": "text/x-python",
   "name": "python",
   "nbconvert_exporter": "python",
   "pygments_lexer": "ipython3",
   "version": "3.6.5"
  }
 },
 "nbformat": 4,
 "nbformat_minor": 2
}
