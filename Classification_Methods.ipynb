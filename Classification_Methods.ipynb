{
 "cells": [
  {
   "cell_type": "code",
   "execution_count": 1,
   "metadata": {},
   "outputs": [],
   "source": [
    "from training import *"
   ]
  },
  {
   "cell_type": "code",
   "execution_count": null,
   "metadata": {},
   "outputs": [],
   "source": [
    "classify_data(\"./SampleData/ClassifySpiralData.txt\", (-1, 1), (-6, 6, 30), validation_data_ratio=0.9, generate_graphs=True,\n",
    "                surface_name='Spiral Surface', title='Classify Spiral Data', filename='9-17-2019-Spiral_Accuracy-Validation-0.9.html')\n",
    "classify_data(\"./SampleData/ClassifySpiralData.txt\", (-1, 1), (-6, 6, 30), validation_data_ratio=0.5, generate_graphs=True,\n",
    "                surface_name='Spiral Surface', title='Classify Spiral Data', filename='9-17-2019-Spiral_Accuracy-Validation-0.5.html')\n",
    "classify_data(\"./SampleData/ClassifySpiralData.txt\", (-1, 1), (-6, 6, 30), validation_data_ratio=0.3, generate_graphs=True,\n",
    "                surface_name='Spiral Surface', title='Classify Spiral Data', filename='9-17-2019-Spiral_Accuracy-Validation-0.3.html')"
   ]
  },
  {
   "cell_type": "code",
   "execution_count": null,
   "metadata": {},
   "outputs": [],
   "source": [
    "classify_data(\"./SampleData/ClassifyCircleData.txt\", (-1, 1), (-6, 6, 30), validation_data_ratio=0.9, generate_graphs=True,\n",
    "                surface_name='Circle Surface', title='Classify Circle Data', filename='9-17-2019-Circle_Accuracy-Validation-0.9.html')\n",
    "classify_data(\"./SampleData/ClassifyCircleData.txt\", (-1, 1), (-6, 6, 30), validation_data_ratio=0.5, generate_graphs=True,\n",
    "                surface_name='Circle Surface', title='Classify Circle Data', filename='9-17-2019-Circle_Accuracy-Validation-0.5.html')\n",
    "classify_data(\"./SampleData/ClassifyCircleData.txt\", (-1, 1), (-6, 6, 30), validation_data_ratio=0.3, generate_graphs=True,\n",
    "                surface_name='Circle Surface', title='Classify Circle Data', filename='9-17-2019-Circle_Accuracy-Validation-0.3.html')"
   ]
  },
  {
   "cell_type": "code",
   "execution_count": null,
   "metadata": {},
   "outputs": [],
   "source": [
    "classify_data(\"./SampleData/ClassifyXORData.txt\", (-1, 1), (-6, 6, 30), validation_data_ratio=0.9, generate_graphs=True,\n",
    "                surface_name='XOR Surface', title='Classify XOR Data', filename='9-17-2019-XOR_Accuracy-Validation-0.9.html')\n",
    "classify_data(\"./SampleData/ClassifyXORData.txt\", (-1, 1), (-6, 6, 30), validation_data_ratio=0.5, generate_graphs=True,\n",
    "                surface_name='XOR Surface', title='Classify XOR Data', filename='9-17-2019-XOR_Accuracy-Validation-0.5.html')\n",
    "classify_data(\"./SampleData/ClassifyXORData.txt\", (-1, 1), (-6, 6, 30), validation_data_ratio=0.3, generate_graphs=True,\n",
    "                surface_name='XOR Surface', title='Classify XOR Data', filename='9-17-2019-XOR_Accuracy-Validation-0.3.html')"
   ]
  },
  {
   "cell_type": "code",
   "execution_count": null,
   "metadata": {},
   "outputs": [],
   "source": [
    "classify_data(\"./SampleData/ClassifyTwoGaussData.txt\", (-1, 1), (-6, 6, 30), validation_data_ratio=0.9, generate_graphs=True,\n",
    "                surface_name='Two Gauss Surface', title='Classify Two Gauss Data', filename='9-17-2019-Two_Gauss_Accuracy-Validation-0.9.html')\n",
    "classify_data(\"./SampleData/ClassifyTwoGaussData.txt\", (-1, 1), (-6, 6, 30), validation_data_ratio=0.5, generate_graphs=True,\n",
    "                surface_name='Two Gauss Surface', title='Classify Two Gauss Data', filename='9-17-2019-Two_Gauss_Accuracy-Validation-0.5.html')\n",
    "classify_data(\"./SampleData/ClassifyTwoGaussData.txt\", (-1, 1), (-6, 6, 30), validation_data_ratio=0.3, generate_graphs=True,\n",
    "                surface_name='Two Gauss Surface', title='Classify Two Gauss Data', filename='9-17-2019-Two_Gauss_Accuracy-Validation-0.3.html')"
   ]
  },
  {
   "cell_type": "code",
   "execution_count": 4,
   "metadata": {},
   "outputs": [
    {
     "ename": "KeyboardInterrupt",
     "evalue": "",
     "traceback": [
      "\u001b[1;31m---------------------------------------------------------------------------\u001b[0m",
      "\u001b[1;31mKeyboardInterrupt\u001b[0m                         Traceback (most recent call last)",
      "\u001b[1;32m<ipython-input-4-311099391a44>\u001b[0m in \u001b[0;36m<module>\u001b[1;34m\u001b[0m\n\u001b[0;32m      5\u001b[0m \u001b[1;32mfor\u001b[0m \u001b[0mi\u001b[0m \u001b[1;32min\u001b[0m \u001b[0mrange\u001b[0m\u001b[1;33m(\u001b[0m\u001b[1;36m0\u001b[0m\u001b[1;33m,\u001b[0m \u001b[0mn\u001b[0m\u001b[1;33m)\u001b[0m\u001b[1;33m:\u001b[0m\u001b[1;33m\u001b[0m\u001b[0m\n\u001b[0;32m      6\u001b[0m     displot_data.append(classify_data(\"./SampleData/ClassifySpiralData.txt\", (-1, 1), (-6, 6, 30), validation_data_ratio=0.5, generate_graphs=False,\n\u001b[1;32m----> 7\u001b[1;33m                     surface_name='Spiral Surface', title='Classify Spiral Data', filename='9-17-2019-Spiral_Accuracy-Validation-0.5.html')\n\u001b[0m\u001b[0;32m      8\u001b[0m                        )\n\u001b[0;32m      9\u001b[0m \u001b[0mprint\u001b[0m\u001b[1;33m(\u001b[0m\u001b[0mdisplot_data\u001b[0m\u001b[1;33m)\u001b[0m\u001b[1;33m\u001b[0m\u001b[0m\n",
      "\u001b[1;32mE:\\Graduate_School\\Braude_Research\\Weighted\\MADGE\\training.py\u001b[0m in \u001b[0;36mclassify_data\u001b[1;34m(path, classifiers, linspace, validation_data_ratio, generate_graphs, surface_name, title, filename)\u001b[0m\n\u001b[0;32m     38\u001b[0m     \u001b[0my_space\u001b[0m \u001b[1;33m=\u001b[0m \u001b[0mnp\u001b[0m\u001b[1;33m.\u001b[0m\u001b[0mlinspace\u001b[0m\u001b[1;33m(\u001b[0m\u001b[0mlinspace\u001b[0m\u001b[1;33m[\u001b[0m\u001b[1;36m0\u001b[0m\u001b[1;33m]\u001b[0m\u001b[1;33m,\u001b[0m \u001b[0mlinspace\u001b[0m\u001b[1;33m[\u001b[0m\u001b[1;36m1\u001b[0m\u001b[1;33m]\u001b[0m\u001b[1;33m,\u001b[0m \u001b[0mlinspace\u001b[0m\u001b[1;33m[\u001b[0m\u001b[1;36m2\u001b[0m\u001b[1;33m]\u001b[0m\u001b[1;33m)\u001b[0m\u001b[1;33m\u001b[0m\u001b[0m\n\u001b[0;32m     39\u001b[0m     \u001b[0mX\u001b[0m\u001b[1;33m,\u001b[0m \u001b[0mY\u001b[0m \u001b[1;33m=\u001b[0m \u001b[0mnp\u001b[0m\u001b[1;33m.\u001b[0m\u001b[0mmeshgrid\u001b[0m\u001b[1;33m(\u001b[0m\u001b[0mx_space\u001b[0m\u001b[1;33m,\u001b[0m \u001b[0my_space\u001b[0m\u001b[1;33m)\u001b[0m\u001b[1;33m\u001b[0m\u001b[0m\n\u001b[1;32m---> 40\u001b[1;33m     \u001b[0mZ\u001b[0m \u001b[1;33m=\u001b[0m \u001b[0mnew_set\u001b[0m\u001b[1;33m.\u001b[0m\u001b[0mcalculate_madge_data_and_map_to_plane\u001b[0m\u001b[1;33m(\u001b[0m\u001b[0mX\u001b[0m\u001b[1;33m,\u001b[0m \u001b[0mY\u001b[0m\u001b[1;33m)\u001b[0m\u001b[1;33m\u001b[0m\u001b[0m\n\u001b[0m\u001b[0;32m     41\u001b[0m \u001b[1;33m\u001b[0m\u001b[0m\n\u001b[0;32m     42\u001b[0m     \u001b[1;31m## This creates the testing data graph data\u001b[0m\u001b[1;33m\u001b[0m\u001b[1;33m\u001b[0m\u001b[0m\n",
      "\u001b[1;32mE:\\Graduate_School\\Braude_Research\\Weighted\\MADGE\\classification_set.py\u001b[0m in \u001b[0;36mcalculate_madge_data_and_map_to_plane\u001b[1;34m(self, x, y)\u001b[0m\n\u001b[0;32m     40\u001b[0m         \u001b[1;31m# this generates the weight times zi and the weight for each input point to point ratio\u001b[0m\u001b[1;33m\u001b[0m\u001b[1;33m\u001b[0m\u001b[0m\n\u001b[0;32m     41\u001b[0m         \u001b[1;32mfor\u001b[0m \u001b[0mindex\u001b[0m\u001b[1;33m,\u001b[0m \u001b[0mdata_point_row\u001b[0m \u001b[1;32min\u001b[0m \u001b[0menumerate\u001b[0m\u001b[1;33m(\u001b[0m\u001b[0mvectorized_graph_array_trans\u001b[0m\u001b[1;33m)\u001b[0m\u001b[1;33m:\u001b[0m\u001b[1;33m\u001b[0m\u001b[0m\n\u001b[1;32m---> 42\u001b[1;33m             \u001b[0mweight_wi_zi\u001b[0m\u001b[1;33m,\u001b[0m \u001b[0mweight_xi\u001b[0m \u001b[1;33m=\u001b[0m \u001b[0mvectorized_point_weight_function\u001b[0m\u001b[1;33m(\u001b[0m\u001b[0mdata_point_row\u001b[0m\u001b[1;33m,\u001b[0m \u001b[0mnp_point_array\u001b[0m\u001b[1;33m)\u001b[0m\u001b[1;33m\u001b[0m\u001b[0m\n\u001b[0m\u001b[0;32m     43\u001b[0m             \u001b[1;31m# all of the even indices are wi/zi and all the odd indices are wi\u001b[0m\u001b[1;33m\u001b[0m\u001b[1;33m\u001b[0m\u001b[0m\n\u001b[0;32m     44\u001b[0m             \u001b[1;31m# add all even indices together and all the odd indices together as well\u001b[0m\u001b[1;33m\u001b[0m\u001b[1;33m\u001b[0m\u001b[0m\n",
      "\u001b[1;32me:\\program files\\python36\\lib\\site-packages\\numpy\\lib\\function_base.py\u001b[0m in \u001b[0;36m__call__\u001b[1;34m(self, *args, **kwargs)\u001b[0m\n\u001b[0;32m   2089\u001b[0m             \u001b[0mvargs\u001b[0m\u001b[1;33m.\u001b[0m\u001b[0mextend\u001b[0m\u001b[1;33m(\u001b[0m\u001b[1;33m[\u001b[0m\u001b[0mkwargs\u001b[0m\u001b[1;33m[\u001b[0m\u001b[0m_n\u001b[0m\u001b[1;33m]\u001b[0m \u001b[1;32mfor\u001b[0m \u001b[0m_n\u001b[0m \u001b[1;32min\u001b[0m \u001b[0mnames\u001b[0m\u001b[1;33m]\u001b[0m\u001b[1;33m)\u001b[0m\u001b[1;33m\u001b[0m\u001b[0m\n\u001b[0;32m   2090\u001b[0m \u001b[1;33m\u001b[0m\u001b[0m\n\u001b[1;32m-> 2091\u001b[1;33m         \u001b[1;32mreturn\u001b[0m \u001b[0mself\u001b[0m\u001b[1;33m.\u001b[0m\u001b[0m_vectorize_call\u001b[0m\u001b[1;33m(\u001b[0m\u001b[0mfunc\u001b[0m\u001b[1;33m=\u001b[0m\u001b[0mfunc\u001b[0m\u001b[1;33m,\u001b[0m \u001b[0margs\u001b[0m\u001b[1;33m=\u001b[0m\u001b[0mvargs\u001b[0m\u001b[1;33m)\u001b[0m\u001b[1;33m\u001b[0m\u001b[0m\n\u001b[0m\u001b[0;32m   2092\u001b[0m \u001b[1;33m\u001b[0m\u001b[0m\n\u001b[0;32m   2093\u001b[0m     \u001b[1;32mdef\u001b[0m \u001b[0m_get_ufunc_and_otypes\u001b[0m\u001b[1;33m(\u001b[0m\u001b[0mself\u001b[0m\u001b[1;33m,\u001b[0m \u001b[0mfunc\u001b[0m\u001b[1;33m,\u001b[0m \u001b[0margs\u001b[0m\u001b[1;33m)\u001b[0m\u001b[1;33m:\u001b[0m\u001b[1;33m\u001b[0m\u001b[0m\n",
      "\u001b[1;32me:\\program files\\python36\\lib\\site-packages\\numpy\\lib\\function_base.py\u001b[0m in \u001b[0;36m_vectorize_call\u001b[1;34m(self, func, args)\u001b[0m\n\u001b[0;32m   2165\u001b[0m                       for a in args]\n\u001b[0;32m   2166\u001b[0m \u001b[1;33m\u001b[0m\u001b[0m\n\u001b[1;32m-> 2167\u001b[1;33m             \u001b[0moutputs\u001b[0m \u001b[1;33m=\u001b[0m \u001b[0mufunc\u001b[0m\u001b[1;33m(\u001b[0m\u001b[1;33m*\u001b[0m\u001b[0minputs\u001b[0m\u001b[1;33m)\u001b[0m\u001b[1;33m\u001b[0m\u001b[0m\n\u001b[0m\u001b[0;32m   2168\u001b[0m \u001b[1;33m\u001b[0m\u001b[0m\n\u001b[0;32m   2169\u001b[0m             \u001b[1;32mif\u001b[0m \u001b[0mufunc\u001b[0m\u001b[1;33m.\u001b[0m\u001b[0mnout\u001b[0m \u001b[1;33m==\u001b[0m \u001b[1;36m1\u001b[0m\u001b[1;33m:\u001b[0m\u001b[1;33m\u001b[0m\u001b[0m\n",
      "\u001b[1;32mE:\\Graduate_School\\Braude_Research\\Weighted\\MADGE\\classification_set.py\u001b[0m in \u001b[0;36mpoint_weight_vectorize\u001b[1;34m(self, self_graph_point, input_point)\u001b[0m\n\u001b[0;32m     74\u001b[0m         \u001b[0mw_i\u001b[0m \u001b[1;33m=\u001b[0m \u001b[0mgaussian_area\u001b[0m\u001b[1;33m(\u001b[0m\u001b[0mdistance\u001b[0m\u001b[1;33m,\u001b[0m \u001b[0mself\u001b[0m\u001b[1;33m.\u001b[0m\u001b[0mmean\u001b[0m\u001b[1;33m,\u001b[0m \u001b[0mself\u001b[0m\u001b[1;33m.\u001b[0m\u001b[0msigma\u001b[0m\u001b[1;33m)\u001b[0m\u001b[1;33m\u001b[0m\u001b[0m\n\u001b[0;32m     75\u001b[0m         \u001b[0mz_i\u001b[0m \u001b[1;33m=\u001b[0m \u001b[0mself_graph_point\u001b[0m\u001b[1;33m.\u001b[0m\u001b[0mtype\u001b[0m\u001b[1;33m\u001b[0m\u001b[0m\n\u001b[1;32m---> 76\u001b[1;33m         \u001b[1;32mreturn\u001b[0m \u001b[0mnp\u001b[0m\u001b[1;33m.\u001b[0m\u001b[0mmultiply\u001b[0m\u001b[1;33m(\u001b[0m\u001b[0mw_i\u001b[0m\u001b[1;33m,\u001b[0m \u001b[0mz_i\u001b[0m\u001b[1;33m)\u001b[0m\u001b[1;33m,\u001b[0m \u001b[0mw_i\u001b[0m\u001b[1;33m\u001b[0m\u001b[0m\n\u001b[0m\u001b[0;32m     77\u001b[0m \u001b[1;33m\u001b[0m\u001b[0m\n\u001b[0;32m     78\u001b[0m     \u001b[1;33m@\u001b[0m\u001b[0mstaticmethod\u001b[0m\u001b[1;33m\u001b[0m\u001b[0m\n",
      "\u001b[1;31mKeyboardInterrupt\u001b[0m: "
     ],
     "output_type": "error"
    }
   ],
   "source": [
    "## We are going to do a distribution run for 0.5 validation ratio to test for how well our distributions are\n",
    "\n",
    "n = 100\n",
    "displot_data = []\n",
    "for i in range(0, n):\n",
    "    displot_data.append(classify_data(\"./SampleData/ClassifySpiralData.txt\", (-1, 1), (-6, 6, 30), validation_data_ratio=0.5, generate_graphs=False,\n",
    "                    surface_name='Spiral Surface', title='Classify Spiral Data', filename='9-17-2019-Spiral_Accuracy-Validation-0.5.html')\n",
    "                       )\n",
    "print(displot_data)\n",
    "graph_bar(displot_data, '9-17-2019-Spiral-Accuracy-Distribution')"
   ]
  },
  {
   "cell_type": "code",
   "execution_count": null,
   "metadata": {},
   "outputs": [],
   "source": []
  }
 ],
 "metadata": {
  "kernelspec": {
   "display_name": "Python 3",
   "language": "python",
   "name": "python3"
  },
  "language_info": {
   "codemirror_mode": {
    "name": "ipython",
    "version": 3
   },
   "file_extension": ".py",
   "mimetype": "text/x-python",
   "name": "python",
   "nbconvert_exporter": "python",
   "pygments_lexer": "ipython3",
   "version": "3.6.5"
  }
 },
 "nbformat": 4,
 "nbformat_minor": 2
}
