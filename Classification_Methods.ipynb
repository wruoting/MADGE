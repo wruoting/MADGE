{
 "cells": [
  {
   "cell_type": "code",
   "execution_count": 1,
   "metadata": {},
   "outputs": [],
   "source": [
    "from training import *"
   ]
  },
  {
   "cell_type": "code",
   "execution_count": null,
   "metadata": {},
   "outputs": [],
   "source": [
    "classify_data(\"./SampleData/ClassifySpiralData.txt\", (-1, 1), (-6, 6, 30), validation_data_ratio=0.9, generate_graphs=True,\n",
    "                surface_name='Spiral Surface', title='Classify Spiral Data', filename='9-17-2019-Spiral_Accuracy-Validation-0.9.html')\n",
    "classify_data(\"./SampleData/ClassifySpiralData.txt\", (-1, 1), (-6, 6, 30), validation_data_ratio=0.5, generate_graphs=True,\n",
    "                surface_name='Spiral Surface', title='Classify Spiral Data', filename='9-17-2019-Spiral_Accuracy-Validation-0.5.html')\n",
    "classify_data(\"./SampleData/ClassifySpiralData.txt\", (-1, 1), (-6, 6, 30), validation_data_ratio=0.3, generate_graphs=True,\n",
    "                surface_name='Spiral Surface', title='Classify Spiral Data', filename='9-17-2019-Spiral_Accuracy-Validation-0.3.html')"
   ]
  },
  {
   "cell_type": "code",
   "execution_count": null,
   "metadata": {},
   "outputs": [],
   "source": [
    "classify_data(\"./SampleData/ClassifyCircleData.txt\", (-1, 1), (-6, 6, 30), validation_data_ratio=0.9, generate_graphs=True,\n",
    "                surface_name='Circle Surface', title='Classify Circle Data', filename='9-17-2019-Circle_Accuracy-Validation-0.9.html')\n",
    "classify_data(\"./SampleData/ClassifyCircleData.txt\", (-1, 1), (-6, 6, 30), validation_data_ratio=0.5, generate_graphs=True,\n",
    "                surface_name='Circle Surface', title='Classify Circle Data', filename='9-17-2019-Circle_Accuracy-Validation-0.5.html')\n",
    "classify_data(\"./SampleData/ClassifyCircleData.txt\", (-1, 1), (-6, 6, 30), validation_data_ratio=0.3, generate_graphs=True,\n",
    "                surface_name='Circle Surface', title='Classify Circle Data', filename='9-17-2019-Circle_Accuracy-Validation-0.3.html')"
   ]
  },
  {
   "cell_type": "code",
   "execution_count": null,
   "metadata": {},
   "outputs": [],
   "source": [
    "classify_data(\"./SampleData/ClassifyXORData.txt\", (-1, 1), (-6, 6, 30), validation_data_ratio=0.9, generate_graphs=True,\n",
    "                surface_name='XOR Surface', title='Classify XOR Data', filename='9-17-2019-XOR_Accuracy-Validation-0.9.html')\n",
    "classify_data(\"./SampleData/ClassifyXORData.txt\", (-1, 1), (-6, 6, 30), validation_data_ratio=0.5, generate_graphs=True,\n",
    "                surface_name='XOR Surface', title='Classify XOR Data', filename='9-17-2019-XOR_Accuracy-Validation-0.5.html')\n",
    "classify_data(\"./SampleData/ClassifyXORData.txt\", (-1, 1), (-6, 6, 30), validation_data_ratio=0.3, generate_graphs=True,\n",
    "                surface_name='XOR Surface', title='Classify XOR Data', filename='9-17-2019-XOR_Accuracy-Validation-0.3.html')"
   ]
  },
  {
   "cell_type": "code",
   "execution_count": null,
   "metadata": {},
   "outputs": [],
   "source": [
    "classify_data(\"./SampleData/ClassifyTwoGaussData.txt\", (-1, 1), (-6, 6, 30), validation_data_ratio=0.9, generate_graphs=True,\n",
    "                surface_name='Two Gauss Surface', title='Classify Two Gauss Data', filename='9-17-2019-Two_Gauss_Accuracy-Validation-0.9.html')\n",
    "classify_data(\"./SampleData/ClassifyTwoGaussData.txt\", (-1, 1), (-6, 6, 30), validation_data_ratio=0.5, generate_graphs=True,\n",
    "                surface_name='Two Gauss Surface', title='Classify Two Gauss Data', filename='9-17-2019-Two_Gauss_Accuracy-Validation-0.5.html')\n",
    "classify_data(\"./SampleData/ClassifyTwoGaussData.txt\", (-1, 1), (-6, 6, 30), validation_data_ratio=0.3, generate_graphs=True,\n",
    "                surface_name='Two Gauss Surface', title='Classify Two Gauss Data', filename='9-17-2019-Two_Gauss_Accuracy-Validation-0.3.html')"
   ]
  },
  {
   "cell_type": "code",
   "execution_count": null,
   "metadata": {},
   "outputs": [],
   "source": [
    "## We are going to do a distribution run for 0.5 validation ratio to test for how well our distributions are\n",
    "\n",
    "n = 100\n",
    "displot_data = []\n",
    "for i in range(0, n):\n",
    "    displot_data.append(classify_data(\"./SampleData/ClassifySpiralData.txt\", (-1, 1), (-6, 6, 30), validation_data_ratio=0.5, generate_graphs=False,\n",
    "                    surface_name='Spiral Surface', title='Classify Spiral Data', filename='9-17-2019-Spiral_Accuracy-Validation-0.5.html')\n",
    "                       )\n",
    "graph_bar([displot_data], '9-17-2019-Spiral-Accuracy-Distribution')"
   ]
  },
  {
   "cell_type": "code",
   "execution_count": null,
   "metadata": {},
   "outputs": [],
   "source": []
  }
 ],
 "metadata": {
  "kernelspec": {
   "display_name": "Python 3",
   "language": "python",
   "name": "python3"
  },
  "language_info": {
   "codemirror_mode": {
    "name": "ipython",
    "version": 3
   },
   "file_extension": ".py",
   "mimetype": "text/x-python",
   "name": "python",
   "nbconvert_exporter": "python",
   "pygments_lexer": "ipython3",
   "version": "3.6.5"
  }
 },
 "nbformat": 4,
 "nbformat_minor": 2
}
