{
 "cells": [
  {
   "cell_type": "code",
   "execution_count": 10,
   "metadata": {},
   "outputs": [],
   "source": [
    "from MNISTModule.classification_set import ClassificationSet\n",
    "from MNISTModule.classification import Classification\n",
    "from mnist.loader import MNIST\n",
    "import numpy as np\n",
    "import os"
   ]
  },
  {
   "cell_type": "code",
   "execution_count": null,
   "metadata": {},
   "outputs": [],
   "source": [
    "samples_path = './SampleData/MNIST'\n",
    "write_path = './accuracy.txt'\n",
    "mndata = MNIST(samples_path)\n",
    "\n",
    "\n",
    "mnist_training_set = ClassificationSet()\n",
    "\n",
    "if os.path.exists(write_path):\n",
    "    mode = 'a+'\n",
    "else:\n",
    "    f= open(write_path,\"w+\")\n",
    "for test_sigma in np.arange(0.1, 4.3, 0.2):\n",
    "    images_training, labels_training = mndata.load_training()\n",
    "    images_testing, labels_testing = mndata.load_testing()\n",
    "    classification = Classification(images_training, labels_training, images_testing, labels_testing, sigma=test_sigma)\n",
    "    classification.load_model(path='./MNISTModule/')\n",
    "    with open(write_path, 'a+') as file:\n",
    "        file.write(test_sigma + ',' + classification.calculate_accuracy(calculate=False, mode='return'))\n",
    "        file.write('\\n')\n"
   ]
  },
  {
   "cell_type": "code",
   "execution_count": null,
   "metadata": {},
   "outputs": [],
   "source": []
  }
 ],
 "metadata": {
  "kernelspec": {
   "display_name": "Python 3",
   "language": "python",
   "name": "python3"
  },
  "language_info": {
   "codemirror_mode": {
    "name": "ipython",
    "version": 3
   },
   "file_extension": ".py",
   "mimetype": "text/x-python",
   "name": "python",
   "nbconvert_exporter": "python",
   "pygments_lexer": "ipython3",
   "version": "3.6.5"
  }
 },
 "nbformat": 4,
 "nbformat_minor": 2
}
