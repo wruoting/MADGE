{
 "cells": [
  {
   "cell_type": "code",
   "execution_count": 9,
   "metadata": {},
   "outputs": [],
   "source": [
    "from create_random_spiral_data import *\n"
   ]
  },
  {
   "cell_type": "code",
   "execution_count": 10,
   "metadata": {},
   "outputs": [],
   "source": [
    "make_array_file(10,1)\n",
    "make_array_file(20,1)\n",
    "make_array_file(50,1)\n",
    "make_array_file(100,1)\n",
    "make_array_file(1000,1)\n",
    "make_array_file(10000,1)"
   ]
  },
  {
   "cell_type": "code",
   "execution_count": 12,
   "metadata": {},
   "outputs": [],
   "source": [
    "make_array_file(10,10)\n",
    "make_array_file(20,10)\n",
    "make_array_file(50,10)\n",
    "make_array_file(100,10)\n",
    "make_array_file(1000,10)\n",
    "make_array_file(10000,10)"
   ]
  },
  {
   "cell_type": "code",
   "execution_count": 13,
   "metadata": {},
   "outputs": [],
   "source": [
    "make_array_file(10,20)\n",
    "make_array_file(20,20)\n",
    "make_array_file(50,20)\n",
    "make_array_file(100,20)\n",
    "make_array_file(1000,20)\n",
    "make_array_file(10000,20)"
   ]
  },
  {
   "cell_type": "code",
   "execution_count": 14,
   "metadata": {},
   "outputs": [],
   "source": [
    "make_array_file(10,50)\n",
    "make_array_file(20,50)\n",
    "make_array_file(50,50)\n",
    "make_array_file(100,50)\n",
    "make_array_file(1000,50)\n",
    "make_array_file(10000,50)"
   ]
  },
  {
   "cell_type": "code",
   "execution_count": 15,
   "metadata": {},
   "outputs": [],
   "source": [
    "make_array_file(10,100)\n",
    "make_array_file(20,100)\n",
    "make_array_file(50,100)\n",
    "make_array_file(100,100)\n",
    "make_array_file(1000,100)\n",
    "make_array_file(10000,100)"
   ]
  },
  {
   "cell_type": "code",
   "execution_count": 16,
   "metadata": {},
   "outputs": [],
   "source": [
    "make_array_file(10,1000)\n",
    "make_array_file(20,1000)\n",
    "make_array_file(50,1000)\n",
    "make_array_file(100,1000)\n",
    "make_array_file(1000,1000)\n",
    "make_array_file(10000,1000)"
   ]
  },
  {
   "cell_type": "code",
   "execution_count": 17,
   "metadata": {},
   "outputs": [],
   "source": [
    "make_array_file(10,10000)\n",
    "make_array_file(20,10000)\n",
    "make_array_file(50,10000)\n",
    "make_array_file(100,10000)\n",
    "make_array_file(1000,10000)\n",
    "make_array_file(10000,10000)"
   ]
  },
  {
   "cell_type": "code",
   "execution_count": null,
   "metadata": {},
   "outputs": [],
   "source": []
  }
 ],
 "metadata": {
  "kernelspec": {
   "display_name": "Python 3",
   "language": "python",
   "name": "python3"
  },
  "language_info": {
   "codemirror_mode": {
    "name": "ipython",
    "version": 3
   },
   "file_extension": ".py",
   "mimetype": "text/x-python",
   "name": "python",
   "nbconvert_exporter": "python",
   "pygments_lexer": "ipython3",
   "version": "3.7.4"
  }
 },
 "nbformat": 4,
 "nbformat_minor": 2
}
