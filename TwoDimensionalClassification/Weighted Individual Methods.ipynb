{
 "cells": [
  {
   "cell_type": "code",
   "execution_count": 1,
   "metadata": {},
   "outputs": [],
   "source": [
    "import plygdata as pg\n",
    "import os\n",
    "import sys\n",
    "module_path = os.path.abspath(os.path.join('..'))\n",
    "if module_path not in sys.path:\n",
    "    sys.path.append(module_path)\n",
    "    \n",
    "from training import *\n",
    "import numpy as np"
   ]
  },
  {
   "cell_type": "code",
   "execution_count": null,
   "metadata": {
    "scrolled": true
   },
   "outputs": [
    {
     "name": "stdout",
     "output_type": "stream",
     "text": [
      "X Val 1, Y Val 1\n",
      "0.0\n",
      "0.0\n",
      "0.0\n",
      "0.0\n",
      "0.0\n",
      "0.0\n",
      "------------------------------------\n",
      "X Val 1, Y Val 10\n",
      "0.0\n",
      "0.42\n",
      "0.0\n",
      "0.0\n",
      "0.0\n",
      "0.0\n",
      "------------------------------------\n",
      "X Val 1, Y Val 20\n"
     ]
    },
    {
     "name": "stderr",
     "output_type": "stream",
     "text": [
      "E:\\Graduate_School\\Braude_Research\\Weighted\\MADGE\\classification_set.py:95: RuntimeWarning:\n",
      "\n",
      "invalid value encountered in true_divide\n",
      "\n",
      "E:\\Graduate_School\\Braude_Research\\Weighted\\MADGE\\madge_calculator.py:23: RuntimeWarning:\n",
      "\n",
      "invalid value encountered in double_scalars\n",
      "\n"
     ]
    },
    {
     "name": "stdout",
     "output_type": "stream",
     "text": [
      "0.0\n",
      "0.44\n",
      "0.0\n",
      "0.0\n",
      "0.0\n",
      "0.0\n",
      "------------------------------------\n",
      "X Val 10, Y Val 1\n",
      "0.0\n",
      "0.42\n",
      "0.0\n",
      "0.0\n"
     ]
    }
   ],
   "source": [
    "validation_data_ratio=0.2\n",
    "\n",
    "x_dim = [\"1\", \"10\", \"20\"]\n",
    "y_dim = [\"1\", \"10\", \"20\"]\n",
    "for x_val in x_dim:\n",
    "    for y_val in y_dim:\n",
    "        path = \"../SampleData/SpiralStretch/ClassifySpiralDataNonSquare-{}-{}.txt\".format(x_val, y_val)\n",
    "        training_data_set = read_data_from_file(path)\n",
    "        # This is the split data we will be using to generate all our graphs\n",
    "        split_data = pg.split_data(training_data_set, validation_size=validation_data_ratio)\n",
    "        print('X Val {}, Y Val {}'.format(str(x_val), str(y_val)))\n",
    "        for std_factor in np.arange(0.1, 3, 0.5):\n",
    "            print(str(classify_data_by_point_set_validate_v2(path, (-1, 1), split_data, sigma=std_factor)))\n",
    "        print('------------------------------------')\n"
   ]
  },
  {
   "cell_type": "code",
   "execution_count": null,
   "metadata": {},
   "outputs": [],
   "source": []
  }
 ],
 "metadata": {
  "kernelspec": {
   "display_name": "Python 3",
   "language": "python",
   "name": "python3"
  },
  "language_info": {
   "codemirror_mode": {
    "name": "ipython",
    "version": 3
   },
   "file_extension": ".py",
   "mimetype": "text/x-python",
   "name": "python",
   "nbconvert_exporter": "python",
   "pygments_lexer": "ipython3",
   "version": "3.6.5"
  }
 },
 "nbformat": 4,
 "nbformat_minor": 2
}
