{
 "cells": [
  {
   "cell_type": "code",
   "execution_count": 1,
   "metadata": {},
   "outputs": [],
   "source": [
    "from TwoDimensionalClassification.graph import *"
   ]
  },
  {
   "cell_type": "code",
   "execution_count": null,
   "metadata": {},
   "outputs": [],
   "source": [
    "linspace = (-200, 200, 30)\n",
    "path = \"./SampleData/ClassifySpiralDataNonSquare.txt\"\n",
    "training_data_set = read_data_from_file(path)\n",
    "training_data_set_filename = '10-06-2019-TestDataSet-MADGE-Circle-Spiral-Randomly-Generated'\n",
    "filename = '10-06-2019-TestDataSet-MADGE-Circle-Spiral-Randomly-Generated'\n",
    "data = create_data_graphs_and_classifiers_by_point(training_data_set, linspace, (1, -1))\n",
    "title = 'Spiral Classification Randomly Generated'\n",
    "create_and_plot_points_in_data_set(training_data_set, (1, -1))\n",
    "plot_madge_data(data, filename, title)"
   ]
  },
  {
   "cell_type": "code",
   "execution_count": null,
   "metadata": {},
   "outputs": [],
   "source": [
    "linspace = (-6, 6, 30)\n",
    "path = \"./SampleData/ClassifySpiralData.txt\"\n",
    "training_data_set = read_data_from_file(path)\n",
    "training_data_set_filename = '10-07-2019-TestDataSet-MADGE-Circle-Spiral-Point-Calculation'\n",
    "filename = '10-06-2019-TestDataSet-MADGE-Circle-Spiral-Point-Calculation'\n",
    "data = create_data_graphs_and_classifiers_by_point(training_data_set, linspace, (1, -1))\n",
    "title = 'Spiral Classification Point Calculation'\n",
    "create_and_plot_points_in_data_set(training_data_set, (1, -1))\n",
    "plot_madge_data(data, filename, title)"
   ]
  },
  {
   "cell_type": "code",
   "execution_count": null,
   "metadata": {},
   "outputs": [],
   "source": []
  }
 ],
 "metadata": {
  "kernelspec": {
   "display_name": "Python 3",
   "language": "python",
   "name": "python3"
  },
  "language_info": {
   "codemirror_mode": {
    "name": "ipython",
    "version": 3
   },
   "file_extension": ".py",
   "mimetype": "text/x-python",
   "name": "python",
   "nbconvert_exporter": "python",
   "pygments_lexer": "ipython3",
   "version": "3.6.5"
  }
 },
 "nbformat": 4,
 "nbformat_minor": 2
}
